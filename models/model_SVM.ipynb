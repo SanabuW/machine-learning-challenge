{
 "cells": [
  {
   "cell_type": "code",
   "execution_count": 1,
   "metadata": {},
   "outputs": [
    {
     "output_type": "stream",
     "name": "stdout",
     "text": [
      "Requirement already satisfied: sklearn in c:\\users\\sanab\\anaconda3\\envs\\pythonadv\\lib\\site-packages (0.0)\nRequirement already satisfied: scikit-learn in c:\\users\\sanab\\anaconda3\\envs\\pythonadv\\lib\\site-packages (from sklearn) (0.24.1)\nRequirement already satisfied: threadpoolctl>=2.0.0 in c:\\users\\sanab\\anaconda3\\envs\\pythonadv\\lib\\site-packages (from scikit-learn->sklearn) (2.1.0)\nRequirement already satisfied: joblib>=0.11 in c:\\users\\sanab\\anaconda3\\envs\\pythonadv\\lib\\site-packages (from scikit-learn->sklearn) (1.0.1)\nRequirement already satisfied: numpy>=1.13.3 in c:\\users\\sanab\\anaconda3\\envs\\pythonadv\\lib\\site-packages (from scikit-learn->sklearn) (1.19.2)\nRequirement already satisfied: scipy>=0.19.1 in c:\\users\\sanab\\anaconda3\\envs\\pythonadv\\lib\\site-packages (from scikit-learn->sklearn) (1.5.2)\n"
     ]
    }
   ],
   "source": [
    "# Update sklearn to prevent version mismatches\n",
    "!pip install sklearn --upgrade"
   ]
  },
  {
   "cell_type": "code",
   "execution_count": 2,
   "metadata": {},
   "outputs": [
    {
     "output_type": "stream",
     "name": "stdout",
     "text": [
      "Requirement already satisfied: joblib in c:\\users\\sanab\\anaconda3\\envs\\pythonadv\\lib\\site-packages (1.0.1)\n"
     ]
    }
   ],
   "source": [
    "# install joblib. This will be used to save your model. \n",
    "# Restart your kernel after installing \n",
    "!pip install joblib"
   ]
  },
  {
   "cell_type": "code",
   "execution_count": 3,
   "metadata": {},
   "outputs": [],
   "source": [
    "import pandas as pd"
   ]
  },
  {
   "cell_type": "markdown",
   "metadata": {},
   "source": [
    "# Read the CSV and Perform Basic Data Cleaning"
   ]
  },
  {
   "cell_type": "code",
   "execution_count": 4,
   "metadata": {},
   "outputs": [
    {
     "output_type": "execute_result",
     "data": {
      "text/plain": [
       "  koi_disposition  koi_fpflag_nt  koi_fpflag_ss  koi_fpflag_co  koi_fpflag_ec  \\\n",
       "0       CONFIRMED              0              0              0              0   \n",
       "1  FALSE POSITIVE              0              1              0              0   \n",
       "2  FALSE POSITIVE              0              1              0              0   \n",
       "3       CONFIRMED              0              0              0              0   \n",
       "4       CONFIRMED              0              0              0              0   \n",
       "\n",
       "   koi_period  koi_period_err1  koi_period_err2  koi_time0bk  \\\n",
       "0   54.418383     2.479000e-04    -2.479000e-04   162.513840   \n",
       "1   19.899140     1.490000e-05    -1.490000e-05   175.850252   \n",
       "2    1.736952     2.630000e-07    -2.630000e-07   170.307565   \n",
       "3    2.525592     3.760000e-06    -3.760000e-06   171.595550   \n",
       "4    4.134435     1.050000e-05    -1.050000e-05   172.979370   \n",
       "\n",
       "   koi_time0bk_err1  ...  koi_steff_err2  koi_slogg  koi_slogg_err1  \\\n",
       "0          0.003520  ...             -81      4.467           0.064   \n",
       "1          0.000581  ...            -176      4.544           0.044   \n",
       "2          0.000115  ...            -174      4.564           0.053   \n",
       "3          0.001130  ...            -211      4.438           0.070   \n",
       "4          0.001900  ...            -232      4.486           0.054   \n",
       "\n",
       "   koi_slogg_err2  koi_srad  koi_srad_err1  koi_srad_err2         ra  \\\n",
       "0          -0.096     0.927          0.105         -0.061  291.93423   \n",
       "1          -0.176     0.868          0.233         -0.078  297.00482   \n",
       "2          -0.168     0.791          0.201         -0.067  285.53461   \n",
       "3          -0.210     1.046          0.334         -0.133  288.75488   \n",
       "4          -0.229     0.972          0.315         -0.105  296.28613   \n",
       "\n",
       "         dec  koi_kepmag  \n",
       "0  48.141651      15.347  \n",
       "1  48.134129      15.436  \n",
       "2  48.285210      15.597  \n",
       "3  48.226200      15.509  \n",
       "4  48.224670      15.714  \n",
       "\n",
       "[5 rows x 41 columns]"
      ],
      "text/html": "<div>\n<style scoped>\n    .dataframe tbody tr th:only-of-type {\n        vertical-align: middle;\n    }\n\n    .dataframe tbody tr th {\n        vertical-align: top;\n    }\n\n    .dataframe thead th {\n        text-align: right;\n    }\n</style>\n<table border=\"1\" class=\"dataframe\">\n  <thead>\n    <tr style=\"text-align: right;\">\n      <th></th>\n      <th>koi_disposition</th>\n      <th>koi_fpflag_nt</th>\n      <th>koi_fpflag_ss</th>\n      <th>koi_fpflag_co</th>\n      <th>koi_fpflag_ec</th>\n      <th>koi_period</th>\n      <th>koi_period_err1</th>\n      <th>koi_period_err2</th>\n      <th>koi_time0bk</th>\n      <th>koi_time0bk_err1</th>\n      <th>...</th>\n      <th>koi_steff_err2</th>\n      <th>koi_slogg</th>\n      <th>koi_slogg_err1</th>\n      <th>koi_slogg_err2</th>\n      <th>koi_srad</th>\n      <th>koi_srad_err1</th>\n      <th>koi_srad_err2</th>\n      <th>ra</th>\n      <th>dec</th>\n      <th>koi_kepmag</th>\n    </tr>\n  </thead>\n  <tbody>\n    <tr>\n      <th>0</th>\n      <td>CONFIRMED</td>\n      <td>0</td>\n      <td>0</td>\n      <td>0</td>\n      <td>0</td>\n      <td>54.418383</td>\n      <td>2.479000e-04</td>\n      <td>-2.479000e-04</td>\n      <td>162.513840</td>\n      <td>0.003520</td>\n      <td>...</td>\n      <td>-81</td>\n      <td>4.467</td>\n      <td>0.064</td>\n      <td>-0.096</td>\n      <td>0.927</td>\n      <td>0.105</td>\n      <td>-0.061</td>\n      <td>291.93423</td>\n      <td>48.141651</td>\n      <td>15.347</td>\n    </tr>\n    <tr>\n      <th>1</th>\n      <td>FALSE POSITIVE</td>\n      <td>0</td>\n      <td>1</td>\n      <td>0</td>\n      <td>0</td>\n      <td>19.899140</td>\n      <td>1.490000e-05</td>\n      <td>-1.490000e-05</td>\n      <td>175.850252</td>\n      <td>0.000581</td>\n      <td>...</td>\n      <td>-176</td>\n      <td>4.544</td>\n      <td>0.044</td>\n      <td>-0.176</td>\n      <td>0.868</td>\n      <td>0.233</td>\n      <td>-0.078</td>\n      <td>297.00482</td>\n      <td>48.134129</td>\n      <td>15.436</td>\n    </tr>\n    <tr>\n      <th>2</th>\n      <td>FALSE POSITIVE</td>\n      <td>0</td>\n      <td>1</td>\n      <td>0</td>\n      <td>0</td>\n      <td>1.736952</td>\n      <td>2.630000e-07</td>\n      <td>-2.630000e-07</td>\n      <td>170.307565</td>\n      <td>0.000115</td>\n      <td>...</td>\n      <td>-174</td>\n      <td>4.564</td>\n      <td>0.053</td>\n      <td>-0.168</td>\n      <td>0.791</td>\n      <td>0.201</td>\n      <td>-0.067</td>\n      <td>285.53461</td>\n      <td>48.285210</td>\n      <td>15.597</td>\n    </tr>\n    <tr>\n      <th>3</th>\n      <td>CONFIRMED</td>\n      <td>0</td>\n      <td>0</td>\n      <td>0</td>\n      <td>0</td>\n      <td>2.525592</td>\n      <td>3.760000e-06</td>\n      <td>-3.760000e-06</td>\n      <td>171.595550</td>\n      <td>0.001130</td>\n      <td>...</td>\n      <td>-211</td>\n      <td>4.438</td>\n      <td>0.070</td>\n      <td>-0.210</td>\n      <td>1.046</td>\n      <td>0.334</td>\n      <td>-0.133</td>\n      <td>288.75488</td>\n      <td>48.226200</td>\n      <td>15.509</td>\n    </tr>\n    <tr>\n      <th>4</th>\n      <td>CONFIRMED</td>\n      <td>0</td>\n      <td>0</td>\n      <td>0</td>\n      <td>0</td>\n      <td>4.134435</td>\n      <td>1.050000e-05</td>\n      <td>-1.050000e-05</td>\n      <td>172.979370</td>\n      <td>0.001900</td>\n      <td>...</td>\n      <td>-232</td>\n      <td>4.486</td>\n      <td>0.054</td>\n      <td>-0.229</td>\n      <td>0.972</td>\n      <td>0.315</td>\n      <td>-0.105</td>\n      <td>296.28613</td>\n      <td>48.224670</td>\n      <td>15.714</td>\n    </tr>\n  </tbody>\n</table>\n<p>5 rows × 41 columns</p>\n</div>"
     },
     "metadata": {},
     "execution_count": 4
    }
   ],
   "source": [
    "df = pd.read_csv(\"../resources/exoplanet_data.csv\")\n",
    "# Drop the null columns where all values are null\n",
    "df = df.dropna(axis='columns', how='all')\n",
    "# Drop the null rows\n",
    "df = df.dropna()\n",
    "df.head()"
   ]
  },
  {
   "cell_type": "markdown",
   "metadata": {},
   "source": [
    "# Select your features (columns)"
   ]
  },
  {
   "cell_type": "code",
   "execution_count": 5,
   "metadata": {},
   "outputs": [],
   "source": [
    "# Set features. This will also be used as your x values.\n",
    "selected_features = df[['koi_fpflag_nt', 'koi_fpflag_co', 'koi_fpflag_ss', 'koi_model_snr']]"
   ]
  },
  {
   "cell_type": "markdown",
   "metadata": {},
   "source": [
    "# Create a Train Test Split\n",
    "\n",
    "Use `koi_disposition` for the y values"
   ]
  },
  {
   "cell_type": "code",
   "execution_count": 6,
   "metadata": {},
   "outputs": [],
   "source": [
    "data = selected_features\n",
    "target = df[\"koi_disposition\"]\n",
    "\n",
    "from sklearn.model_selection import train_test_split\n",
    "X_train, X_test, y_train, y_test = train_test_split(data, target, random_state=42)"
   ]
  },
  {
   "cell_type": "code",
   "execution_count": 7,
   "metadata": {},
   "outputs": [
    {
     "output_type": "execute_result",
     "data": {
      "text/plain": [
       "      koi_fpflag_nt  koi_fpflag_co  koi_fpflag_ss  koi_model_snr\n",
       "6122              0              0              0           10.8\n",
       "6370              0              0              1           13.8\n",
       "2879              1              0              0          254.3\n",
       "107               0              0              0           38.4\n",
       "29                0              0              0          696.5"
      ],
      "text/html": "<div>\n<style scoped>\n    .dataframe tbody tr th:only-of-type {\n        vertical-align: middle;\n    }\n\n    .dataframe tbody tr th {\n        vertical-align: top;\n    }\n\n    .dataframe thead th {\n        text-align: right;\n    }\n</style>\n<table border=\"1\" class=\"dataframe\">\n  <thead>\n    <tr style=\"text-align: right;\">\n      <th></th>\n      <th>koi_fpflag_nt</th>\n      <th>koi_fpflag_co</th>\n      <th>koi_fpflag_ss</th>\n      <th>koi_model_snr</th>\n    </tr>\n  </thead>\n  <tbody>\n    <tr>\n      <th>6122</th>\n      <td>0</td>\n      <td>0</td>\n      <td>0</td>\n      <td>10.8</td>\n    </tr>\n    <tr>\n      <th>6370</th>\n      <td>0</td>\n      <td>0</td>\n      <td>1</td>\n      <td>13.8</td>\n    </tr>\n    <tr>\n      <th>2879</th>\n      <td>1</td>\n      <td>0</td>\n      <td>0</td>\n      <td>254.3</td>\n    </tr>\n    <tr>\n      <th>107</th>\n      <td>0</td>\n      <td>0</td>\n      <td>0</td>\n      <td>38.4</td>\n    </tr>\n    <tr>\n      <th>29</th>\n      <td>0</td>\n      <td>0</td>\n      <td>0</td>\n      <td>696.5</td>\n    </tr>\n  </tbody>\n</table>\n</div>"
     },
     "metadata": {},
     "execution_count": 7
    }
   ],
   "source": [
    "X_train.head()"
   ]
  },
  {
   "cell_type": "markdown",
   "metadata": {},
   "source": [
    "# Pre-processing\n",
    "\n",
    "Scale the data using the MinMaxScaler and perform some feature selection"
   ]
  },
  {
   "cell_type": "code",
   "execution_count": 8,
   "metadata": {},
   "outputs": [],
   "source": [
    "# Scale your data\n",
    "from sklearn.preprocessing import MinMaxScaler\n",
    "X_scaler = MinMaxScaler().fit(X_train)\n",
    "\n",
    "X_train_scaled = X_scaler.transform(X_train)\n",
    "X_test_scaled = X_scaler.transform(X_test)"
   ]
  },
  {
   "cell_type": "markdown",
   "metadata": {},
   "source": [
    "# Train the Model\n",
    "\n"
   ]
  },
  {
   "cell_type": "code",
   "execution_count": 9,
   "metadata": {},
   "outputs": [
    {
     "output_type": "execute_result",
     "data": {
      "text/plain": [
       "SVC(kernel='linear')"
      ]
     },
     "metadata": {},
     "execution_count": 9
    }
   ],
   "source": [
    "#Create SVM Model\n",
    "from sklearn.svm import SVC\n",
    "\n",
    "svc_m = SVC(kernel='linear')\n",
    "svc_m.fit(X_train_scaled, y_train)\n"
   ]
  },
  {
   "cell_type": "code",
   "execution_count": 10,
   "metadata": {},
   "outputs": [
    {
     "output_type": "stream",
     "name": "stdout",
     "text": [
      "Training Data Score: 0.7379362960137326\nTesting Data Score: 0.7437070938215103\n"
     ]
    }
   ],
   "source": [
    "print(f\"Training Data Score: {svc_m.score(X_train_scaled, y_train)}\")\n",
    "print(f\"Testing Data Score: {svc_m.score(X_test_scaled, y_test)}\")"
   ]
  },
  {
   "cell_type": "markdown",
   "metadata": {},
   "source": [
    "# Hyperparameter Tuning\n",
    "\n",
    "Use `GridSearchCV` to tune the model's parameters"
   ]
  },
  {
   "cell_type": "code",
   "execution_count": 11,
   "metadata": {},
   "outputs": [],
   "source": [
    "# Create the GridSearchCV model\n",
    "# Create the GridSearchCV model\n",
    "from sklearn.model_selection import GridSearchCV\n",
    "param_grid = {'C': [0.1, 1, 3, 4, 5, 6, 7, 8, 10, 50, 100],\n",
    "    'gamma': [0.000001, 0.00001, 0.0001, 0.001, 0.01, 5, 10]}\n",
    "\n",
    "grid_svc = GridSearchCV(svc_m, param_grid, verbose=3)"
   ]
  },
  {
   "cell_type": "code",
   "execution_count": 12,
   "metadata": {
    "tags": [
     "outputPrepend"
    ]
   },
   "outputs": [
    {
     "output_type": "stream",
     "name": "stdout",
     "text": [
      "] END ..................................C=4, gamma=10; total time=   0.2s\n",
      "[CV 5/5] END ..................................C=4, gamma=10; total time=   0.2s\n",
      "[CV 1/5] END ...............................C=5, gamma=1e-06; total time=   0.2s\n",
      "[CV 2/5] END ...............................C=5, gamma=1e-06; total time=   0.3s\n",
      "[CV 3/5] END ...............................C=5, gamma=1e-06; total time=   0.3s\n",
      "[CV 4/5] END ...............................C=5, gamma=1e-06; total time=   0.3s\n",
      "[CV 5/5] END ...............................C=5, gamma=1e-06; total time=   0.2s\n",
      "[CV 1/5] END ...............................C=5, gamma=1e-05; total time=   0.3s\n",
      "[CV 2/5] END ...............................C=5, gamma=1e-05; total time=   0.3s\n",
      "[CV 3/5] END ...............................C=5, gamma=1e-05; total time=   0.2s\n",
      "[CV 4/5] END ...............................C=5, gamma=1e-05; total time=   0.2s\n",
      "[CV 5/5] END ...............................C=5, gamma=1e-05; total time=   0.2s\n",
      "[CV 1/5] END ..............................C=5, gamma=0.0001; total time=   0.2s\n",
      "[CV 2/5] END ..............................C=5, gamma=0.0001; total time=   0.2s\n",
      "[CV 3/5] END ..............................C=5, gamma=0.0001; total time=   0.2s\n",
      "[CV 4/5] END ..............................C=5, gamma=0.0001; total time=   0.2s\n",
      "[CV 5/5] END ..............................C=5, gamma=0.0001; total time=   0.2s\n",
      "[CV 1/5] END ...............................C=5, gamma=0.001; total time=   0.2s\n",
      "[CV 2/5] END ...............................C=5, gamma=0.001; total time=   0.1s\n",
      "[CV 3/5] END ...............................C=5, gamma=0.001; total time=   0.2s\n",
      "[CV 4/5] END ...............................C=5, gamma=0.001; total time=   0.1s\n",
      "[CV 5/5] END ...............................C=5, gamma=0.001; total time=   0.1s\n",
      "[CV 1/5] END ................................C=5, gamma=0.01; total time=   0.1s\n",
      "[CV 2/5] END ................................C=5, gamma=0.01; total time=   0.1s\n",
      "[CV 3/5] END ................................C=5, gamma=0.01; total time=   0.1s\n",
      "[CV 4/5] END ................................C=5, gamma=0.01; total time=   0.1s\n",
      "[CV 5/5] END ................................C=5, gamma=0.01; total time=   0.1s\n",
      "[CV 1/5] END ...................................C=5, gamma=5; total time=   0.1s\n",
      "[CV 2/5] END ...................................C=5, gamma=5; total time=   0.1s\n",
      "[CV 3/5] END ...................................C=5, gamma=5; total time=   0.1s\n",
      "[CV 4/5] END ...................................C=5, gamma=5; total time=   0.1s\n",
      "[CV 5/5] END ...................................C=5, gamma=5; total time=   0.1s\n",
      "[CV 1/5] END ..................................C=5, gamma=10; total time=   0.1s\n",
      "[CV 2/5] END ..................................C=5, gamma=10; total time=   0.1s\n",
      "[CV 3/5] END ..................................C=5, gamma=10; total time=   0.1s\n",
      "[CV 4/5] END ..................................C=5, gamma=10; total time=   0.1s\n",
      "[CV 5/5] END ..................................C=5, gamma=10; total time=   0.1s\n",
      "[CV 1/5] END ...............................C=6, gamma=1e-06; total time=   0.1s\n",
      "[CV 2/5] END ...............................C=6, gamma=1e-06; total time=   0.1s\n",
      "[CV 3/5] END ...............................C=6, gamma=1e-06; total time=   0.2s\n",
      "[CV 4/5] END ...............................C=6, gamma=1e-06; total time=   0.2s\n",
      "[CV 5/5] END ...............................C=6, gamma=1e-06; total time=   0.2s\n",
      "[CV 1/5] END ...............................C=6, gamma=1e-05; total time=   0.2s\n",
      "[CV 2/5] END ...............................C=6, gamma=1e-05; total time=   0.2s\n",
      "[CV 3/5] END ...............................C=6, gamma=1e-05; total time=   0.2s\n",
      "[CV 4/5] END ...............................C=6, gamma=1e-05; total time=   0.2s\n",
      "[CV 5/5] END ...............................C=6, gamma=1e-05; total time=   0.1s\n",
      "[CV 1/5] END ..............................C=6, gamma=0.0001; total time=   0.1s\n",
      "[CV 2/5] END ..............................C=6, gamma=0.0001; total time=   0.2s\n",
      "[CV 3/5] END ..............................C=6, gamma=0.0001; total time=   0.2s\n",
      "[CV 4/5] END ..............................C=6, gamma=0.0001; total time=   0.2s\n",
      "[CV 5/5] END ..............................C=6, gamma=0.0001; total time=   0.2s\n",
      "[CV 1/5] END ...............................C=6, gamma=0.001; total time=   0.2s\n",
      "[CV 2/5] END ...............................C=6, gamma=0.001; total time=   0.2s\n",
      "[CV 3/5] END ...............................C=6, gamma=0.001; total time=   0.2s\n",
      "[CV 4/5] END ...............................C=6, gamma=0.001; total time=   0.2s\n",
      "[CV 5/5] END ...............................C=6, gamma=0.001; total time=   0.2s\n",
      "[CV 1/5] END ................................C=6, gamma=0.01; total time=   0.3s\n",
      "[CV 2/5] END ................................C=6, gamma=0.01; total time=   0.2s\n",
      "[CV 3/5] END ................................C=6, gamma=0.01; total time=   0.2s\n",
      "[CV 4/5] END ................................C=6, gamma=0.01; total time=   0.2s\n",
      "[CV 5/5] END ................................C=6, gamma=0.01; total time=   0.2s\n",
      "[CV 1/5] END ...................................C=6, gamma=5; total time=   0.2s\n",
      "[CV 2/5] END ...................................C=6, gamma=5; total time=   0.2s\n",
      "[CV 3/5] END ...................................C=6, gamma=5; total time=   0.2s\n",
      "[CV 4/5] END ...................................C=6, gamma=5; total time=   0.2s\n",
      "[CV 5/5] END ...................................C=6, gamma=5; total time=   0.2s\n",
      "[CV 1/5] END ..................................C=6, gamma=10; total time=   0.2s\n",
      "[CV 2/5] END ..................................C=6, gamma=10; total time=   0.3s\n",
      "[CV 3/5] END ..................................C=6, gamma=10; total time=   0.2s\n",
      "[CV 4/5] END ..................................C=6, gamma=10; total time=   0.3s\n",
      "[CV 5/5] END ..................................C=6, gamma=10; total time=   0.2s\n",
      "[CV 1/5] END ...............................C=7, gamma=1e-06; total time=   0.2s\n",
      "[CV 2/5] END ...............................C=7, gamma=1e-06; total time=   0.2s\n",
      "[CV 3/5] END ...............................C=7, gamma=1e-06; total time=   0.2s\n",
      "[CV 4/5] END ...............................C=7, gamma=1e-06; total time=   0.2s\n",
      "[CV 5/5] END ...............................C=7, gamma=1e-06; total time=   0.2s\n",
      "[CV 1/5] END ...............................C=7, gamma=1e-05; total time=   0.2s\n",
      "[CV 2/5] END ...............................C=7, gamma=1e-05; total time=   0.2s\n",
      "[CV 3/5] END ...............................C=7, gamma=1e-05; total time=   0.2s\n",
      "[CV 4/5] END ...............................C=7, gamma=1e-05; total time=   0.2s\n",
      "[CV 5/5] END ...............................C=7, gamma=1e-05; total time=   0.2s\n",
      "[CV 1/5] END ..............................C=7, gamma=0.0001; total time=   0.2s\n",
      "[CV 2/5] END ..............................C=7, gamma=0.0001; total time=   0.2s\n",
      "[CV 3/5] END ..............................C=7, gamma=0.0001; total time=   0.2s\n",
      "[CV 4/5] END ..............................C=7, gamma=0.0001; total time=   0.4s\n",
      "[CV 5/5] END ..............................C=7, gamma=0.0001; total time=   0.4s\n",
      "[CV 1/5] END ...............................C=7, gamma=0.001; total time=   0.4s\n",
      "[CV 2/5] END ...............................C=7, gamma=0.001; total time=   0.3s\n",
      "[CV 3/5] END ...............................C=7, gamma=0.001; total time=   0.2s\n",
      "[CV 4/5] END ...............................C=7, gamma=0.001; total time=   0.2s\n",
      "[CV 5/5] END ...............................C=7, gamma=0.001; total time=   0.2s\n",
      "[CV 1/5] END ................................C=7, gamma=0.01; total time=   0.4s\n",
      "[CV 2/5] END ................................C=7, gamma=0.01; total time=   0.5s\n",
      "[CV 3/5] END ................................C=7, gamma=0.01; total time=   0.6s\n",
      "[CV 4/5] END ................................C=7, gamma=0.01; total time=   0.6s\n",
      "[CV 5/5] END ................................C=7, gamma=0.01; total time=   0.5s\n",
      "[CV 1/5] END ...................................C=7, gamma=5; total time=   0.7s\n",
      "[CV 2/5] END ...................................C=7, gamma=5; total time=   0.6s\n",
      "[CV 3/5] END ...................................C=7, gamma=5; total time=   0.5s\n",
      "[CV 4/5] END ...................................C=7, gamma=5; total time=   0.4s\n",
      "[CV 5/5] END ...................................C=7, gamma=5; total time=   0.4s\n",
      "[CV 1/5] END ..................................C=7, gamma=10; total time=   0.3s\n",
      "[CV 2/5] END ..................................C=7, gamma=10; total time=   0.3s\n",
      "[CV 3/5] END ..................................C=7, gamma=10; total time=   0.3s\n",
      "[CV 4/5] END ..................................C=7, gamma=10; total time=   0.3s\n",
      "[CV 5/5] END ..................................C=7, gamma=10; total time=   0.3s\n",
      "[CV 1/5] END ...............................C=8, gamma=1e-06; total time=   0.2s\n",
      "[CV 2/5] END ...............................C=8, gamma=1e-06; total time=   0.2s\n",
      "[CV 3/5] END ...............................C=8, gamma=1e-06; total time=   0.3s\n",
      "[CV 4/5] END ...............................C=8, gamma=1e-06; total time=   0.3s\n",
      "[CV 5/5] END ...............................C=8, gamma=1e-06; total time=   0.3s\n",
      "[CV 1/5] END ...............................C=8, gamma=1e-05; total time=   0.3s\n",
      "[CV 2/5] END ...............................C=8, gamma=1e-05; total time=   0.3s\n",
      "[CV 3/5] END ...............................C=8, gamma=1e-05; total time=   0.3s\n",
      "[CV 4/5] END ...............................C=8, gamma=1e-05; total time=   0.2s\n",
      "[CV 5/5] END ...............................C=8, gamma=1e-05; total time=   0.3s\n",
      "[CV 1/5] END ..............................C=8, gamma=0.0001; total time=   0.2s\n",
      "[CV 2/5] END ..............................C=8, gamma=0.0001; total time=   0.3s\n",
      "[CV 3/5] END ..............................C=8, gamma=0.0001; total time=   0.4s\n",
      "[CV 4/5] END ..............................C=8, gamma=0.0001; total time=   0.3s\n",
      "[CV 5/5] END ..............................C=8, gamma=0.0001; total time=   0.4s\n",
      "[CV 1/5] END ...............................C=8, gamma=0.001; total time=   0.3s\n",
      "[CV 2/5] END ...............................C=8, gamma=0.001; total time=   0.3s\n",
      "[CV 3/5] END ...............................C=8, gamma=0.001; total time=   0.4s\n",
      "[CV 4/5] END ...............................C=8, gamma=0.001; total time=   0.4s\n",
      "[CV 5/5] END ...............................C=8, gamma=0.001; total time=   0.3s\n",
      "[CV 1/5] END ................................C=8, gamma=0.01; total time=   0.3s\n",
      "[CV 2/5] END ................................C=8, gamma=0.01; total time=   0.3s\n",
      "[CV 3/5] END ................................C=8, gamma=0.01; total time=   0.3s\n",
      "[CV 4/5] END ................................C=8, gamma=0.01; total time=   0.3s\n",
      "[CV 5/5] END ................................C=8, gamma=0.01; total time=   0.3s\n",
      "[CV 1/5] END ...................................C=8, gamma=5; total time=   0.3s\n",
      "[CV 2/5] END ...................................C=8, gamma=5; total time=   0.3s\n",
      "[CV 3/5] END ...................................C=8, gamma=5; total time=   0.4s\n",
      "[CV 4/5] END ...................................C=8, gamma=5; total time=   0.3s\n",
      "[CV 5/5] END ...................................C=8, gamma=5; total time=   0.3s\n",
      "[CV 1/5] END ..................................C=8, gamma=10; total time=   0.4s\n",
      "[CV 2/5] END ..................................C=8, gamma=10; total time=   0.4s\n",
      "[CV 3/5] END ..................................C=8, gamma=10; total time=   0.4s\n",
      "[CV 4/5] END ..................................C=8, gamma=10; total time=   0.3s\n",
      "[CV 5/5] END ..................................C=8, gamma=10; total time=   0.4s\n",
      "[CV 1/5] END ..............................C=10, gamma=1e-06; total time=   0.4s\n",
      "[CV 2/5] END ..............................C=10, gamma=1e-06; total time=   0.3s\n",
      "[CV 3/5] END ..............................C=10, gamma=1e-06; total time=   0.3s\n",
      "[CV 4/5] END ..............................C=10, gamma=1e-06; total time=   0.2s\n",
      "[CV 5/5] END ..............................C=10, gamma=1e-06; total time=   0.3s\n",
      "[CV 1/5] END ..............................C=10, gamma=1e-05; total time=   0.2s\n",
      "[CV 2/5] END ..............................C=10, gamma=1e-05; total time=   0.2s\n",
      "[CV 3/5] END ..............................C=10, gamma=1e-05; total time=   0.3s\n",
      "[CV 4/5] END ..............................C=10, gamma=1e-05; total time=   0.3s\n",
      "[CV 5/5] END ..............................C=10, gamma=1e-05; total time=   0.3s\n",
      "[CV 1/5] END .............................C=10, gamma=0.0001; total time=   0.3s\n",
      "[CV 2/5] END .............................C=10, gamma=0.0001; total time=   0.3s\n",
      "[CV 3/5] END .............................C=10, gamma=0.0001; total time=   0.6s\n",
      "[CV 4/5] END .............................C=10, gamma=0.0001; total time=   0.8s\n",
      "[CV 5/5] END .............................C=10, gamma=0.0001; total time=   0.6s\n",
      "[CV 1/5] END ..............................C=10, gamma=0.001; total time=   0.7s\n",
      "[CV 2/5] END ..............................C=10, gamma=0.001; total time=   0.8s\n",
      "[CV 3/5] END ..............................C=10, gamma=0.001; total time=   0.7s\n",
      "[CV 4/5] END ..............................C=10, gamma=0.001; total time=   0.6s\n",
      "[CV 5/5] END ..............................C=10, gamma=0.001; total time=   0.5s\n",
      "[CV 1/5] END ...............................C=10, gamma=0.01; total time=   0.6s\n",
      "[CV 2/5] END ...............................C=10, gamma=0.01; total time=   0.5s\n",
      "[CV 3/5] END ...............................C=10, gamma=0.01; total time=   0.6s\n",
      "[CV 4/5] END ...............................C=10, gamma=0.01; total time=   0.6s\n",
      "[CV 5/5] END ...............................C=10, gamma=0.01; total time=   0.5s\n",
      "[CV 1/5] END ..................................C=10, gamma=5; total time=   0.5s\n",
      "[CV 2/5] END ..................................C=10, gamma=5; total time=   0.5s\n",
      "[CV 3/5] END ..................................C=10, gamma=5; total time=   0.6s\n",
      "[CV 4/5] END ..................................C=10, gamma=5; total time=   0.7s\n",
      "[CV 5/5] END ..................................C=10, gamma=5; total time=   0.6s\n",
      "[CV 1/5] END .................................C=10, gamma=10; total time=   0.6s\n",
      "[CV 2/5] END .................................C=10, gamma=10; total time=   0.5s\n",
      "[CV 3/5] END .................................C=10, gamma=10; total time=   0.5s\n",
      "[CV 4/5] END .................................C=10, gamma=10; total time=   0.5s\n",
      "[CV 5/5] END .................................C=10, gamma=10; total time=   0.6s\n",
      "[CV 1/5] END ..............................C=50, gamma=1e-06; total time=   0.5s\n",
      "[CV 2/5] END ..............................C=50, gamma=1e-06; total time=   0.4s\n",
      "[CV 3/5] END ..............................C=50, gamma=1e-06; total time=   0.5s\n",
      "[CV 4/5] END ..............................C=50, gamma=1e-06; total time=   0.4s\n",
      "[CV 5/5] END ..............................C=50, gamma=1e-06; total time=   0.5s\n",
      "[CV 1/5] END ..............................C=50, gamma=1e-05; total time=   0.4s\n",
      "[CV 2/5] END ..............................C=50, gamma=1e-05; total time=   0.4s\n",
      "[CV 3/5] END ..............................C=50, gamma=1e-05; total time=   0.5s\n",
      "[CV 4/5] END ..............................C=50, gamma=1e-05; total time=   0.5s\n",
      "[CV 5/5] END ..............................C=50, gamma=1e-05; total time=   0.5s\n",
      "[CV 1/5] END .............................C=50, gamma=0.0001; total time=   0.5s\n",
      "[CV 2/5] END .............................C=50, gamma=0.0001; total time=   0.4s\n",
      "[CV 3/5] END .............................C=50, gamma=0.0001; total time=   0.3s\n",
      "[CV 4/5] END .............................C=50, gamma=0.0001; total time=   0.3s\n",
      "[CV 5/5] END .............................C=50, gamma=0.0001; total time=   0.3s\n",
      "[CV 1/5] END ..............................C=50, gamma=0.001; total time=   0.3s\n",
      "[CV 2/5] END ..............................C=50, gamma=0.001; total time=   0.3s\n",
      "[CV 3/5] END ..............................C=50, gamma=0.001; total time=   0.4s\n",
      "[CV 4/5] END ..............................C=50, gamma=0.001; total time=   0.5s\n",
      "[CV 5/5] END ..............................C=50, gamma=0.001; total time=   0.7s\n",
      "[CV 1/5] END ...............................C=50, gamma=0.01; total time=   0.6s\n",
      "[CV 2/5] END ...............................C=50, gamma=0.01; total time=   0.4s\n",
      "[CV 3/5] END ...............................C=50, gamma=0.01; total time=   0.3s\n",
      "[CV 4/5] END ...............................C=50, gamma=0.01; total time=   0.3s\n",
      "[CV 5/5] END ...............................C=50, gamma=0.01; total time=   0.3s\n",
      "[CV 1/5] END ..................................C=50, gamma=5; total time=   0.4s\n",
      "[CV 2/5] END ..................................C=50, gamma=5; total time=   0.4s\n",
      "[CV 3/5] END ..................................C=50, gamma=5; total time=   0.4s\n",
      "[CV 4/5] END ..................................C=50, gamma=5; total time=   0.4s\n",
      "[CV 5/5] END ..................................C=50, gamma=5; total time=   0.4s\n",
      "[CV 1/5] END .................................C=50, gamma=10; total time=   0.4s\n",
      "[CV 2/5] END .................................C=50, gamma=10; total time=   0.3s\n",
      "[CV 3/5] END .................................C=50, gamma=10; total time=   0.3s\n",
      "[CV 4/5] END .................................C=50, gamma=10; total time=   0.4s\n",
      "[CV 5/5] END .................................C=50, gamma=10; total time=   0.5s\n",
      "[CV 1/5] END .............................C=100, gamma=1e-06; total time=   0.6s\n",
      "[CV 2/5] END .............................C=100, gamma=1e-06; total time=   0.4s\n",
      "[CV 3/5] END .............................C=100, gamma=1e-06; total time=   0.4s\n",
      "[CV 4/5] END .............................C=100, gamma=1e-06; total time=   0.3s\n",
      "[CV 5/5] END .............................C=100, gamma=1e-06; total time=   0.3s\n",
      "[CV 1/5] END .............................C=100, gamma=1e-05; total time=   0.4s\n",
      "[CV 2/5] END .............................C=100, gamma=1e-05; total time=   0.3s\n",
      "[CV 3/5] END .............................C=100, gamma=1e-05; total time=   0.4s\n",
      "[CV 4/5] END .............................C=100, gamma=1e-05; total time=   0.3s\n",
      "[CV 5/5] END .............................C=100, gamma=1e-05; total time=   0.4s\n",
      "[CV 1/5] END ............................C=100, gamma=0.0001; total time=   0.4s\n",
      "[CV 2/5] END ............................C=100, gamma=0.0001; total time=   0.4s\n",
      "[CV 3/5] END ............................C=100, gamma=0.0001; total time=   0.5s\n",
      "[CV 4/5] END ............................C=100, gamma=0.0001; total time=   0.4s\n",
      "[CV 5/5] END ............................C=100, gamma=0.0001; total time=   0.3s\n",
      "[CV 1/5] END .............................C=100, gamma=0.001; total time=   0.3s\n",
      "[CV 2/5] END .............................C=100, gamma=0.001; total time=   0.4s\n",
      "[CV 3/5] END .............................C=100, gamma=0.001; total time=   0.4s\n",
      "[CV 4/5] END .............................C=100, gamma=0.001; total time=   0.4s\n",
      "[CV 5/5] END .............................C=100, gamma=0.001; total time=   0.5s\n",
      "[CV 1/5] END ..............................C=100, gamma=0.01; total time=   0.5s\n",
      "[CV 2/5] END ..............................C=100, gamma=0.01; total time=   0.6s\n",
      "[CV 3/5] END ..............................C=100, gamma=0.01; total time=   0.5s\n",
      "[CV 4/5] END ..............................C=100, gamma=0.01; total time=   0.4s\n",
      "[CV 5/5] END ..............................C=100, gamma=0.01; total time=   0.6s\n",
      "[CV 1/5] END .................................C=100, gamma=5; total time=   0.5s\n",
      "[CV 2/5] END .................................C=100, gamma=5; total time=   0.4s\n",
      "[CV 3/5] END .................................C=100, gamma=5; total time=   0.4s\n",
      "[CV 4/5] END .................................C=100, gamma=5; total time=   0.4s\n",
      "[CV 5/5] END .................................C=100, gamma=5; total time=   0.3s\n",
      "[CV 1/5] END ................................C=100, gamma=10; total time=   0.4s\n",
      "[CV 2/5] END ................................C=100, gamma=10; total time=   0.4s\n",
      "[CV 3/5] END ................................C=100, gamma=10; total time=   0.5s\n",
      "[CV 4/5] END ................................C=100, gamma=10; total time=   0.8s\n",
      "[CV 5/5] END ................................C=100, gamma=10; total time=   1.6s\n"
     ]
    },
    {
     "output_type": "execute_result",
     "data": {
      "text/plain": [
       "GridSearchCV(estimator=SVC(kernel='linear'),\n",
       "             param_grid={'C': [0.1, 1, 3, 4, 5, 6, 7, 8, 10, 50, 100],\n",
       "                         'gamma': [1e-06, 1e-05, 0.0001, 0.001, 0.01, 5, 10]},\n",
       "             verbose=3)"
      ]
     },
     "metadata": {},
     "execution_count": 12
    }
   ],
   "source": [
    "# Train the model with GridSearch\n",
    "grid_svc.fit(X_train_scaled, y_train)"
   ]
  },
  {
   "cell_type": "code",
   "execution_count": 13,
   "metadata": {},
   "outputs": [
    {
     "output_type": "stream",
     "name": "stdout",
     "text": [
      "{'C': 5, 'gamma': 1e-06}\n0.7547176882381621\n"
     ]
    }
   ],
   "source": [
    "print(grid_svc.best_params_)\n",
    "print(grid_svc.best_score_)"
   ]
  },
  {
   "cell_type": "markdown",
   "metadata": {},
   "source": [
    "# Save the Model"
   ]
  },
  {
   "cell_type": "code",
   "execution_count": 14,
   "metadata": {},
   "outputs": [
    {
     "output_type": "execute_result",
     "data": {
      "text/plain": [
       "['svc_model.sav']"
      ]
     },
     "metadata": {},
     "execution_count": 14
    }
   ],
   "source": [
    "# save your model by updating \"your_name\" with your name\n",
    "# and \"your_model\" with your model variable\n",
    "# be sure to turn this in to BCS\n",
    "# if joblib fails to import, try running the command to install in terminal/git-bash\n",
    "import joblib\n",
    "filename = 'svc_model.sav'\n",
    "joblib.dump(grid_svc, filename)"
   ]
  },
  {
   "cell_type": "code",
   "execution_count": null,
   "metadata": {},
   "outputs": [],
   "source": []
  }
 ],
 "metadata": {
  "kernel_info": {
   "name": "dev"
  },
  "kernelspec": {
   "name": "python3613jvsc74a57bd030ee94210cfe5f589d78b29b40a5e64a4815dbb25e21180d0365d6255ad98366",
   "display_name": "Python 3.6.13 64-bit ('PythonAdv': conda)"
  },
  "language_info": {
   "codemirror_mode": {
    "name": "ipython",
    "version": 3
   },
   "file_extension": ".py",
   "mimetype": "text/x-python",
   "name": "python",
   "nbconvert_exporter": "python",
   "pygments_lexer": "ipython3",
   "version": "3.6.13"
  },
  "nteract": {
   "version": "0.12.3"
  }
 },
 "nbformat": 4,
 "nbformat_minor": 2
}